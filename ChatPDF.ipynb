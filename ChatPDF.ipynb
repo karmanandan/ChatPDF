{
  "nbformat": 4,
  "nbformat_minor": 0,
  "metadata": {
    "colab": {
      "provenance": [],
      "authorship_tag": "ABX9TyP2GXf7exjOZSKkaPzRV+DZ",
      "include_colab_link": true
    },
    "kernelspec": {
      "name": "python3",
      "display_name": "Python 3"
    },
    "language_info": {
      "name": "python"
    }
  },
  "cells": [
    {
      "cell_type": "markdown",
      "metadata": {
        "id": "view-in-github",
        "colab_type": "text"
      },
      "source": [
        "<a href=\"https://colab.research.google.com/github/karmanandan/ChatPDF/blob/main/ChatPDF.ipynb\" target=\"_parent\"><img src=\"https://colab.research.google.com/assets/colab-badge.svg\" alt=\"Open In Colab\"/></a>"
      ]
    },
    {
      "cell_type": "markdown",
      "source": [
        "# **Chat with your PDF, with help of OpenAI, FAISS,and LangChain**"
      ],
      "metadata": {
        "id": "vPeLo0HbAIWR"
      }
    },
    {
      "cell_type": "code",
      "source": [
        "# install required libraries"
      ],
      "metadata": {
        "id": "zi735ftT-bHI"
      },
      "execution_count": 28,
      "outputs": []
    },
    {
      "cell_type": "code",
      "source": [
        "# https://github.com/john-thuo1/chatWithPDF/blob/main/App.py\n",
        "# https://medium.com/@johnthuo/chat-with-your-pdf-using-langchain-f-a-i-s-s-and-openai-to-query-pdfs-e7bfde086155"
      ],
      "metadata": {
        "id": "2g3fsBSu_-LH"
      },
      "execution_count": null,
      "outputs": []
    },
    {
      "cell_type": "code",
      "source": [
        "# !pip install openai\n",
        "# !pip install PyPDF2\n",
        "# !pip install langchain\n",
        "# !pip install tiktoken\n",
        "# !pip install faiss-cpu"
      ],
      "metadata": {
        "id": "gboOS9EE-bKj"
      },
      "execution_count": null,
      "outputs": []
    },
    {
      "cell_type": "code",
      "source": [
        "import os\n",
        "import openai\n",
        "from PyPDF2 import PdfReader\n",
        "import streamlit as st\n",
        "from langchain.text_splitter import CharacterTextSplitter\n",
        "from langchain.embeddings.openai import OpenAIEmbeddings\n",
        "from langchain import FAISS\n",
        "from langchain.chains.question_answering import load_qa_chain\n",
        "from langchain.llms import OpenAI\n",
        "from langchain.callbacks import get_openai_callback"
      ],
      "metadata": {
        "id": "F5XMmnkw-qCB"
      },
      "execution_count": 29,
      "outputs": []
    },
    {
      "cell_type": "code",
      "source": [
        "openai.api_key = ''"
      ],
      "metadata": {
        "id": "XuAL7L2I-t-G"
      },
      "execution_count": 30,
      "outputs": []
    },
    {
      "cell_type": "code",
      "source": [
        "def process_text(text):\n",
        "    # Split the text into chunks using langchain\n",
        "    text_splitter = CharacterTextSplitter(\n",
        "        separator=\"\\n\",\n",
        "        chunk_size=1000,\n",
        "        chunk_overlap=200,\n",
        "        length_function=len\n",
        "    )\n",
        "    chunks = text_splitter.split_text(text)\n",
        "    \n",
        "    # Convert the chunks of text into embeddings to form a knowledge base\n",
        "    embeddings = OpenAIEmbeddings(openai_api_key =openai.api_key)\n",
        "    knowledgeBase = FAISS.from_texts(chunks, embeddings)\n",
        "    \n",
        "    return knowledgeBase"
      ],
      "metadata": {
        "id": "Do5w411c-qc4"
      },
      "execution_count": 31,
      "outputs": []
    },
    {
      "cell_type": "code",
      "source": [
        "pdf_reader = PdfReader('/content/Austrian AML Act - 2021 (1).pdf')\n",
        "# Text variable will store the pdf text\n",
        "text = \"\"\n",
        "for page in pdf_reader.pages:\n",
        "    text += page.extract_text()\n",
        "\n",
        "# Create the knowledge base object\n",
        "knowledgeBase = process_text(text)"
      ],
      "metadata": {
        "id": "4UXWF01m-5uc"
      },
      "execution_count": 32,
      "outputs": []
    },
    {
      "cell_type": "code",
      "source": [
        "query = input('Ask a question to the PDF')\n",
        "\n",
        "if query:\n",
        "    docs = knowledgeBase.similarity_search(query)\n",
        "    llm = OpenAI(openai_api_key =openai.api_key)\n",
        "    chain = load_qa_chain(llm, chain_type='stuff')\n",
        "    \n",
        "    with get_openai_callback() as cost:\n",
        "        response = chain.run(input_documents=docs, question=query)\n",
        "        print('response',response)\n",
        "        print(\"\\n\")\n",
        "        print('*'*30)\n",
        "        print(\"\\n\")\n",
        "        print(cost)"
      ],
      "metadata": {
        "colab": {
          "base_uri": "https://localhost:8080/"
        },
        "id": "Y2_MXO0v-96_",
        "outputId": "94a4fd9b-2a79-4134-eaf6-6ab308615f64"
      },
      "execution_count": 33,
      "outputs": [
        {
          "output_type": "stream",
          "name": "stdout",
          "text": [
            "Ask a question to the PDFwhat is the purpose of federal act?\n",
            "response  The purpose of the federal act is to enable the obliged entity or the FMA to fulfil its/their tasks properly for the purposes of this federal act, or to avoid obstructing official or legal inquiries, analyses, investigations or procedures for the purposes of this federal act and to ensure that the prevention, investigation and detection of money laundering and terrorist financing is not jeopardised.\n",
            "\n",
            "\n",
            "******************************\n",
            "\n",
            "\n",
            "Tokens Used: 988\n",
            "\tPrompt Tokens: 914\n",
            "\tCompletion Tokens: 74\n",
            "Successful Requests: 1\n",
            "Total Cost (USD): $0.01976\n"
          ]
        }
      ]
    },
    {
      "cell_type": "code",
      "source": [],
      "metadata": {
        "id": "iFYPjELb_eFE"
      },
      "execution_count": null,
      "outputs": []
    }
  ]
}